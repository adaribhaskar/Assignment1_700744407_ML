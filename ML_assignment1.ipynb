{
  "nbformat": 4,
  "nbformat_minor": 0,
  "metadata": {
    "colab": {
      "provenance": [],
      "include_colab_link": true
    },
    "kernelspec": {
      "name": "python3",
      "display_name": "Python 3"
    },
    "language_info": {
      "name": "python"
    }
  },
  "cells": [
    {
      "cell_type": "markdown",
      "metadata": {
        "id": "view-in-github",
        "colab_type": "text"
      },
      "source": [
        "<a href=\"https://colab.research.google.com/github/adaribhaskar/Assignment1_700744407_ML/blob/main/ML_assignment1.ipynb\" target=\"_parent\"><img src=\"https://colab.research.google.com/assets/colab-badge.svg\" alt=\"Open In Colab\"/></a>"
      ]
    },
    {
      "cell_type": "markdown",
      "source": [
        "Question number 1"
      ],
      "metadata": {
        "id": "Fb2AhyUS0f2R"
      }
    },
    {
      "cell_type": "code",
      "source": [
        "ages = [19, 22, 19, 24, 20, 25, 26, 24, 25, 24]\n",
        "ages.sort()\n",
        "\n",
        "a=min(ages)\n",
        "b=max(ages)\n",
        "print(a,b)\n",
        "ages.append(a)\n",
        "ages.append(b)\n",
        "ages.sort() #again sorted after adding min and max valu to list\n",
        "print(\"After adding max and min\",ages)\n",
        "length=int(len(ages)/2)\n",
        "median =(ages[length]+ages[length-1])/2\n",
        "print(\"Median Age:\",int(median))\n",
        "print(\"Average Age :\",sum(ages)/len(ages)) #average age\n",
        "print(\"range:\",b-a)#range\n"
      ],
      "metadata": {
        "colab": {
          "base_uri": "https://localhost:8080/"
        },
        "id": "yg2ibDaq0kAS",
        "outputId": "0744f964-35a6-4b58-b1c1-bee2ea927abd"
      },
      "execution_count": null,
      "outputs": [
        {
          "output_type": "stream",
          "name": "stdout",
          "text": [
            "19 26\n",
            "After adding max and min [19, 19, 19, 20, 22, 24, 24, 24, 25, 25, 26, 26]\n",
            "Median Age: 24\n",
            "Average Age : 22.75\n",
            "range: 7\n"
          ]
        }
      ]
    },
    {
      "cell_type": "markdown",
      "source": [
        "Question 2"
      ],
      "metadata": {
        "id": "GAdNuyjrie5_"
      }
    },
    {
      "cell_type": "code",
      "source": [
        "dog={}\n",
        "dog[\"name\"]=\"rio\"\n",
        "dog[\"color\"]=\"white\"\n",
        "dog[\"breed\"]=\"golden\"\n",
        "dog[\"legs\"]=4\n",
        "dog[\"age\"]=5\n",
        "print(dog.values())\n",
        "student={\"first_name\":\"\",\"Last_name\":\"\",\"Gender\":\"\",\"Age\":\"\",\"Martial Status\":\"\",\"Skills\":\"\",\"Country\":\"\",\"City\":\"\",\"Address\":\"\"}\n",
        "\n",
        "print(len(student))\n",
        "values=[]\n",
        "for i in range(len(student)):\n",
        "  a=input()\n",
        "  values.append(a)\n",
        "  student[i]=a\n",
        "print(type(values))\n",
        "student[\"Skills\"].append(\"python\")\n",
        "print(student.keys())\n",
        "print(student.values())"
      ],
      "metadata": {
        "colab": {
          "base_uri": "https://localhost:8080/"
        },
        "id": "K3_9nqxsigcL",
        "outputId": "e81f1edd-017d-457d-b8a2-eceef33dfecb"
      },
      "execution_count": null,
      "outputs": [
        {
          "output_type": "stream",
          "name": "stdout",
          "text": [
            "dict_values(['rio', 'white', 'golden', 4, 5])\n",
            "9\n",
            "bhaskar\n",
            "adari\n",
            "male\n",
            "23\n",
            "single\n",
            "testinng\n",
            "india\n",
            "vizag\n",
            "hgkduhk\n",
            "<class 'list'>\n",
            "['bhaskar', 'adari', 'male', '23', 'single', 'testinng', 'india', 'vizag', 'hgkduhk']\n"
          ]
        }
      ]
    },
    {
      "cell_type": "markdown",
      "source": [
        "Question 3"
      ],
      "metadata": {
        "id": "ODvYzNhhF_bb"
      }
    },
    {
      "cell_type": "code",
      "source": [
        "brothers=(\"Suresh\",\"Chaitanya\")\n",
        "sisters=(\"Sirisha\",\"Ramya\")\n",
        "siblings=brothers+sisters\n",
        "print(\"I have {} siblings\".format(len(siblings)))\n",
        "family_numbers=siblings+(\"Balaram\",\"Lakshmi\")\n",
        "print(family_numbers)"
      ],
      "metadata": {
        "colab": {
          "base_uri": "https://localhost:8080/"
        },
        "id": "JEhyl50xGBbg",
        "outputId": "f22139bd-ece5-42ea-d154-23e29a231110"
      },
      "execution_count": null,
      "outputs": [
        {
          "output_type": "stream",
          "name": "stdout",
          "text": [
            "I have 4 siblings\n",
            "('Suresh', 'Chaitanya', 'Sirisha', 'Ramya', 'Balaram', 'Lakshmi')\n"
          ]
        }
      ]
    },
    {
      "cell_type": "markdown",
      "source": [
        "Question 4"
      ],
      "metadata": {
        "id": "2Z4PPkTcJ6Ew"
      }
    },
    {
      "cell_type": "code",
      "source": [
        "it_companies = {'Facebook', 'Google', 'Microsoft', 'Apple', 'IBM', 'Oracle', 'Amazon'}\n",
        "A = {19, 22, 24, 20, 25, 26}\n",
        "B = {19, 22, 20, 25, 26, 24, 28, 27}\n",
        "age = [22, 19, 24, 25, 26, 24, 25, 24]\n",
        "print(len(it_companies))\n",
        "it_companies.add(\"Twitter\")\n",
        "print(it_companies)\n",
        "m_it=[\"cognizant\",\"TCS\"]\n",
        "it_companies.update(m_it)\n",
        "print(it_companies)\n",
        "it_companies.remove(\"cognizant\")\n",
        "print(it_companies)\n",
        "#remove will throw an error if the item is not present in the set\n",
        "#discard will not throw an error message even if the item is not present\n",
        "C=A.union(B)\n",
        "D=A.intersection(B)\n",
        "print(C,D)\n",
        "print(A.issubset(B))\n",
        "print(A.isdisjoint(B))\n",
        "A=A.union(B)\n",
        "B=B.union(A)\n",
        "E=A.symmetric_difference(B)\n",
        "print(E)\n",
        "A.clear()\n",
        "B.clear()\n",
        "print(A)\n",
        "print(B)\n",
        "SETage=set(age)\n",
        "print(len(age)-len(SETage))"
      ],
      "metadata": {
        "colab": {
          "base_uri": "https://localhost:8080/"
        },
        "id": "zT6wqxuvJ80P",
        "outputId": "7dc65fdc-475c-4ae2-a133-9f331f95dfe9"
      },
      "execution_count": null,
      "outputs": [
        {
          "output_type": "stream",
          "name": "stdout",
          "text": [
            "7\n",
            "{'IBM', 'Apple', 'Microsoft', 'Oracle', 'Google', 'Twitter', 'Facebook', 'Amazon'}\n",
            "{'cognizant', 'IBM', 'Apple', 'Microsoft', 'TCS', 'Oracle', 'Google', 'Twitter', 'Facebook', 'Amazon'}\n",
            "{'IBM', 'Apple', 'Microsoft', 'TCS', 'Oracle', 'Google', 'Twitter', 'Facebook', 'Amazon'}\n",
            "{19, 20, 22, 24, 25, 26, 27, 28} {19, 20, 22, 24, 25, 26}\n",
            "True\n",
            "False\n",
            "set()\n",
            "set()\n",
            "set()\n",
            "3\n"
          ]
        }
      ]
    },
    {
      "cell_type": "markdown",
      "source": [
        "Question 5"
      ],
      "metadata": {
        "id": "dZZYp-ntf5HW"
      }
    },
    {
      "cell_type": "code",
      "source": [
        "import math as m\n",
        "radius = 30\n",
        "area_of_circle_ = m.pi*radius*radius\n",
        "circum_of_circle_ = 2*m.pi*radius\n",
        "rad1=int(input())\n",
        "print(area_of_circle_,circum_of_circle_,m.pi*rad1*rad1)"
      ],
      "metadata": {
        "colab": {
          "base_uri": "https://localhost:8080/"
        },
        "id": "xGI7ZKtXf67Q",
        "outputId": "02c4ebf5-9f51-4899-8c5a-67d577cb4399"
      },
      "execution_count": null,
      "outputs": [
        {
          "output_type": "stream",
          "name": "stdout",
          "text": [
            "40\n",
            "2827.4333882308138 188.49555921538757 5026.548245743669\n"
          ]
        }
      ]
    },
    {
      "cell_type": "markdown",
      "source": [
        "Question 6"
      ],
      "metadata": {
        "id": "S_KX761_7nML"
      }
    },
    {
      "cell_type": "code",
      "source": [
        "s=\"I am a teacher and I love to inspire and teach people\"\n",
        "s=list(s.split(\" \"))\n",
        "print(set(s))"
      ],
      "metadata": {
        "colab": {
          "base_uri": "https://localhost:8080/"
        },
        "id": "p4hC-KHq7sm8",
        "outputId": "d2762fa1-1aff-4411-b6ec-0db3c6ddde47"
      },
      "execution_count": null,
      "outputs": [
        {
          "output_type": "stream",
          "name": "stdout",
          "text": [
            "{'I', 'love', 'teach', 'people', 'teacher', 'to', 'inspire', 'am', 'a', 'and'}\n"
          ]
        }
      ]
    },
    {
      "cell_type": "markdown",
      "source": [
        "Question 7"
      ],
      "metadata": {
        "id": "n4X0zLJL7tdX"
      }
    },
    {
      "cell_type": "code",
      "source": [
        "print(\"Name\\t\\tAge\\tCountry\\t\\tCity\")\n",
        "print(\"Asabeneh\\t25\\tFinland\\t\\tHelsinki\")"
      ],
      "metadata": {
        "colab": {
          "base_uri": "https://localhost:8080/"
        },
        "id": "FPqPt93I7vSv",
        "outputId": "10d30118-14a3-4970-e288-83a110ce5f30"
      },
      "execution_count": null,
      "outputs": [
        {
          "output_type": "stream",
          "name": "stdout",
          "text": [
            "Name\t\tAge\tCountry\t\tCity\n",
            "Asabeneh\t25\tFinland\t\tHelsinki\n"
          ]
        }
      ]
    },
    {
      "cell_type": "markdown",
      "source": [
        "Question 8"
      ],
      "metadata": {
        "id": "eoL06i-_3ymh"
      }
    },
    {
      "cell_type": "code",
      "source": [
        "radius = 10\n",
        "area = 3.14*radius**2\n",
        "print(\"The area of a circle with radius 10 is {} meters square.\".format(int(area)))"
      ],
      "metadata": {
        "colab": {
          "base_uri": "https://localhost:8080/"
        },
        "id": "Rk4y9gBh3xr6",
        "outputId": "cce378ec-a028-4352-cf79-f72d6983d242"
      },
      "execution_count": null,
      "outputs": [
        {
          "output_type": "stream",
          "name": "stdout",
          "text": [
            "The area of a circle with radius 10 is 314 meters square.\n"
          ]
        }
      ]
    },
    {
      "cell_type": "markdown",
      "source": [
        "Question 9"
      ],
      "metadata": {
        "id": "hmSBa4_m5g4K"
      }
    },
    {
      "cell_type": "code",
      "source": [
        "\n",
        "kgs=[]\n",
        "n=5\n",
        "for i in range(5):\n",
        "  a=int(input())\n",
        "  kgs.append(round(a*0.453592,2))\n",
        "print(kgs)"
      ],
      "metadata": {
        "colab": {
          "base_uri": "https://localhost:8080/"
        },
        "id": "fhPzTvO75izw",
        "outputId": "f4498427-6f8a-4625-fc3c-b1db388e7fb3"
      },
      "execution_count": null,
      "outputs": [
        {
          "output_type": "stream",
          "name": "stdout",
          "text": [
            "150\n",
            "155\n",
            "145\n",
            "138\n",
            "160\n",
            "[68.04, 70.31, 65.77, 62.6, 72.57]\n"
          ]
        }
      ]
    }
  ]
}